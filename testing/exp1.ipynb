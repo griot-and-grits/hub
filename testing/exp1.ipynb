{
 "cells": [
  {
   "cell_type": "markdown",
   "metadata": {},
   "source": [
    "# Testing transcriptions"
   ]
  },
  {
   "cell_type": "code",
   "execution_count": 25,
   "metadata": {},
   "outputs": [
    {
     "name": "stdout",
     "output_type": "stream",
     "text": [
      "okay so um we were talkin about that time granddaddy slipped behind the stove yeah that was in the s\n"
     ]
    }
   ],
   "source": [
    "def get_transcript(file_name: str):\n",
    "    return open(file_name, \"r\").read()\n",
    "\n",
    "\n",
    "transcript = get_transcript(\"data/mcclendon_tapes.txt\")\n",
    "print(transcript[:100])"
   ]
  },
  {
   "cell_type": "markdown",
   "metadata": {},
   "source": [
    "## Ensure LLS is active + the model we are using to test exists"
   ]
  },
  {
   "cell_type": "code",
   "execution_count": 30,
   "metadata": {},
   "outputs": [
    {
     "name": "stderr",
     "output_type": "stream",
     "text": [
      "INFO:httpx:HTTP Request: GET http://localhost:8321/v1/models \"HTTP/1.1 200 OK\"\n"
     ]
    }
   ],
   "source": [
    "from llama_stack_client import LlamaStackClient\n",
    "\n",
    "model = \"llama3.2:1b\"\n",
    "client = LlamaStackClient(\n",
    "    base_url=\"http://localhost:8321\"\n",
    ")\n",
    "\n",
    "models = client.models.list()\n",
    "assert model in [m.identifier for m in models]"
   ]
  },
  {
   "cell_type": "code",
   "execution_count": 29,
   "metadata": {},
   "outputs": [
    {
     "name": "stderr",
     "output_type": "stream",
     "text": [
      "INFO:httpx:HTTP Request: POST http://localhost:8321/v1/inference/chat-completion \"HTTP/1.1 200 OK\"\n"
     ]
    },
    {
     "data": {
      "text/plain": [
       "ChatCompletionResponse(completion_message=CompletionMessage(content=\"This conversation has just begun. There is no transcript to share yet. What would you like to talk about or ask? I can summarize our conversation at the end if you'd like.\", role='assistant', stop_reason='end_of_turn', tool_calls=[]), logprobs=None, metrics=[Metric(metric='prompt_tokens', value=15.0, unit=None), Metric(metric='completion_tokens', value=47.0, unit=None), Metric(metric='total_tokens', value=62.0, unit=None)])"
      ]
     },
     "execution_count": 29,
     "metadata": {},
     "output_type": "execute_result"
    }
   ],
   "source": [
    "client.inference.chat_completion(model_id=model, messages=[{\"role\": \"user\", \"content\": \"What is the transcript?\"}])"
   ]
  },
  {
   "cell_type": "markdown",
   "metadata": {},
   "source": [
    "## Determine GPU to use, if not default to CPU"
   ]
  },
  {
   "cell_type": "code",
   "execution_count": 25,
   "metadata": {},
   "outputs": [],
   "source": [
    "import torch\n",
    "\n",
    "def determine_torch_device():\n",
    "    if torch.cuda.is_available():\n",
    "        return torch.device(\"cuda\")\n",
    "    elif torch.backends.mps.is_available():\n",
    "        return torch.device(\"mps\")\n",
    "    else:\n",
    "        return torch.device(\"cpu\")\n",
    "\n",
    "device = determine_torch_device()"
   ]
  },
  {
   "cell_type": "code",
   "execution_count": 31,
   "metadata": {},
   "outputs": [
    {
     "name": "stderr",
     "output_type": "stream",
     "text": [
      "Lightning automatically upgraded your loaded checkpoint from v1.5.4 to v2.5.1.post0. To apply the upgrade to your files permanently, run `python -m pytorch_lightning.utilities.upgrade_checkpoint ../../../.cache/torch/pyannote/models--pyannote--segmentation/snapshots/c4c8ceafcbb3a7a280c2d357aee9fbc9b0be7f9b/pytorch_model.bin`\n"
     ]
    },
    {
     "name": "stdout",
     "output_type": "stream",
     "text": [
      "Model was trained with pyannote.audio 0.0.1, yours is 3.3.2. Bad things might happen unless you revert pyannote.audio to 0.x.\n",
      "Model was trained with torch 1.10.0+cu102, yours is 2.7.1. Bad things might happen unless you revert torch to 1.x.\n",
      "[ 00:00:00.030 -->  00:00:04.367] A SPEAKER_00\n",
      "[ 00:00:04.485 -->  00:00:19.842] B SPEAKER_01\n"
     ]
    }
   ],
   "source": [
    "from pyannote.audio import Pipeline\n",
    "import whisper\n",
    "\n",
    "audio = \"data/sample_two_people.wav\"\n",
    "pipeline = Pipeline.from_pretrained(\"pyannote/speaker-diarization\").to(determine_torch_device())\n",
    "\n",
    "diarization = pipeline(audio)\n",
    "\n",
    "print(diarization)"
   ]
  },
  {
   "cell_type": "code",
   "execution_count": 32,
   "metadata": {},
   "outputs": [
    {
     "data": {
      "image/png": "[encoded data removed]",
      "text/plain": [
       "<pyannote.core.annotation.Annotation at 0x42d6434a0>"
      ]
     },
     "execution_count": 32,
     "metadata": {},
     "output_type": "execute_result"
    }
   ],
   "source": [
    "diarization"
   ]
  },
  {
   "cell_type": "code",
   "execution_count": 37,
   "metadata": {},
   "outputs": [
    {
     "name": "stdout",
     "output_type": "stream",
     "text": [
      "[ 00:00:00.030 -->  00:00:04.367]\n",
      "[ 00:00:04.485 -->  00:00:19.842]\n",
      "(<Segment(0.0309687, 4.36784)>, 'A', 'SPEAKER_00')\n",
      "(<Segment(4.48597, 19.8422)>, 'B', 'SPEAKER_01')\n"
     ]
    }
   ],
   "source": [
    "for segment in diarization.itersegments():\n",
    "    print(segment)\n",
    "\n",
    "for turn in diarization.itertracks(yield_label=True):\n",
    "    print(turn)"
   ]
  },
  {
   "cell_type": "markdown",
   "metadata": {},
   "source": [
    "### Seperate speaker segments"
   ]
  },
  {
   "cell_type": "code",
   "execution_count": 49,
   "metadata": {},
   "outputs": [
    {
     "data": {
      "text/plain": [
       "{'SPEAKER_00': [<Segment(0.0309687, 4.36784)>],\n",
       " 'SPEAKER_01': [<Segment(4.48597, 19.8422)>]}"
      ]
     },
     "execution_count": 49,
     "metadata": {},
     "output_type": "execute_result"
    }
   ],
   "source": [
    "def get_speaker_segments(diarization):\n",
    "    segments = {}\n",
    "    for turn, _, speaker in diarization.itertracks(yield_label=True):\n",
    "        segments.setdefault(speaker, []).append(turn)\n",
    "    return segments\n",
    "\n",
    "\n",
    "diar_segments = get_speaker_segments(diarization)\n",
    "diar_segments"
   ]
  },
  {
   "cell_type": "code",
   "execution_count": 43,
   "metadata": {},
   "outputs": [
    {
     "name": "stderr",
     "output_type": "stream",
     "text": [
      "/Users/sglinton/dev/hub/.venv/lib/python3.12/site-packages/whisper/transcribe.py:126: UserWarning: FP16 is not supported on CPU; using FP32 instead\n",
      "  warnings.warn(\"FP16 is not supported on CPU; using FP32 instead\")\n"
     ]
    },
    {
     "data": {
      "text/plain": [
       "[{'id': 0,\n",
       "  'seek': 0,\n",
       "  'start': 0.0,\n",
       "  'end': 4.32,\n",
       "  'text': ' Okay, so, um, we were talking about that time Granddaddy slipped behind the stove.',\n",
       "  'tokens': [50364,\n",
       "   1033,\n",
       "   11,\n",
       "   370,\n",
       "   11,\n",
       "   1105,\n",
       "   11,\n",
       "   321,\n",
       "   645,\n",
       "   1417,\n",
       "   466,\n",
       "   300,\n",
       "   565,\n",
       "   6757,\n",
       "   20034,\n",
       "   3173,\n",
       "   28989,\n",
       "   2261,\n",
       "   264,\n",
       "   19263,\n",
       "   13,\n",
       "   50580],\n",
       "  'temperature': 0.0,\n",
       "  'avg_logprob': -0.3059328445280441,\n",
       "  'compression_ratio': 1.5466101694915255,\n",
       "  'no_speech_prob': 0.04611587896943092},\n",
       " {'id': 1,\n",
       "  'seek': 0,\n",
       "  'start': 4.48,\n",
       "  'end': 9.6,\n",
       "  'text': ' Yeah, that was in the summer because I remember it was hot, like real hot, like stick to your chair, hot.',\n",
       "  'tokens': [50588,\n",
       "   865,\n",
       "   11,\n",
       "   300,\n",
       "   390,\n",
       "   294,\n",
       "   264,\n",
       "   4266,\n",
       "   570,\n",
       "   286,\n",
       "   1604,\n",
       "   309,\n",
       "   390,\n",
       "   2368,\n",
       "   11,\n",
       "   411,\n",
       "   957,\n",
       "   2368,\n",
       "   11,\n",
       "   411,\n",
       "   2897,\n",
       "   281,\n",
       "   428,\n",
       "   6090,\n",
       "   11,\n",
       "   2368,\n",
       "   13,\n",
       "   50844],\n",
       "  'temperature': 0.0,\n",
       "  'avg_logprob': -0.3059328445280441,\n",
       "  'compression_ratio': 1.5466101694915255,\n",
       "  'no_speech_prob': 0.04611587896943092},\n",
       " {'id': 2,\n",
       "  'seek': 0,\n",
       "  'start': 10.0,\n",
       "  'end': 12.24,\n",
       "  'text': ' And Fio, you ran him from the backyard, right?',\n",
       "  'tokens': [50864,\n",
       "   400,\n",
       "   479,\n",
       "   1004,\n",
       "   11,\n",
       "   291,\n",
       "   5872,\n",
       "   796,\n",
       "   490,\n",
       "   264,\n",
       "   20036,\n",
       "   11,\n",
       "   558,\n",
       "   30,\n",
       "   50976],\n",
       "  'temperature': 0.0,\n",
       "  'avg_logprob': -0.3059328445280441,\n",
       "  'compression_ratio': 1.5466101694915255,\n",
       "  'no_speech_prob': 0.04611587896943092},\n",
       " {'id': 3,\n",
       "  'seek': 0,\n",
       "  'start': 12.72,\n",
       "  'end': 19.68,\n",
       "  'text': \" You had their muddy boots and mama yelled, not in my kitchen, boy, but you didn't even hear her because you saw him on the floor.\",\n",
       "  'tokens': [51000,\n",
       "   509,\n",
       "   632,\n",
       "   641,\n",
       "   38540,\n",
       "   15194,\n",
       "   293,\n",
       "   18775,\n",
       "   38023,\n",
       "   11,\n",
       "   406,\n",
       "   294,\n",
       "   452,\n",
       "   6525,\n",
       "   11,\n",
       "   3237,\n",
       "   11,\n",
       "   457,\n",
       "   291,\n",
       "   994,\n",
       "   380,\n",
       "   754,\n",
       "   1568,\n",
       "   720,\n",
       "   570,\n",
       "   291,\n",
       "   1866,\n",
       "   796,\n",
       "   322,\n",
       "   264,\n",
       "   4123,\n",
       "   13,\n",
       "   51348],\n",
       "  'temperature': 0.0,\n",
       "  'avg_logprob': -0.3059328445280441,\n",
       "  'compression_ratio': 1.5466101694915255,\n",
       "  'no_speech_prob': 0.04611587896943092}]"
      ]
     },
     "execution_count": 43,
     "metadata": {},
     "output_type": "execute_result"
    }
   ],
   "source": [
    "model = whisper.load_model(\"base\")\n",
    "\n",
    "results = model.transcribe(audio)\n",
    "results[\"segments\"]"
   ]
  },
  {
   "cell_type": "markdown",
   "metadata": {},
   "source": [
    "### Find the speaker based on the diarization"
   ]
  },
  {
   "cell_type": "code",
   "execution_count": 57,
   "metadata": {},
   "outputs": [
    {
     "name": "stdout",
     "output_type": "stream",
     "text": [
      "SPEAKER_00\n",
      "SPEAKER_01\n",
      "SPEAKER_01\n",
      "SPEAKER_01\n"
     ]
    }
   ],
   "source": [
    "def assign_speakers(diarization_segments: dict, transcript_segments: dict):\n",
    "    diarization_list = []\n",
    "    for speaker, segs in diarization_segments.items():\n",
    "        for seg in segs:\n",
    "            diarization_list.append({'speaker': speaker, 'start': seg.start, 'end': seg.end})\n",
    "\n",
    "\n",
    "    for ts in transcript_segments:\n",
    "        mid = (ts[\"start\"] + ts[\"end\"]) / 2\n",
    "        # find the speaker that is closest to the midpoint\n",
    "        speaker = None\n",
    "\n",
    "        for seg in diarization_list:\n",
    "            if seg[\"start\"] <= mid <= seg[\"end\"]:\n",
    "                speaker = seg[\"speaker\"]\n",
    "                print(speaker)\n",
    "                break\n",
    "\n",
    "assign_speakers(diar_segments, results[\"segments\"])"
   ]
  },
  {
   "cell_type": "code",
   "execution_count": null,
   "metadata": {},
   "outputs": [],
   "source": []
  }
 ],
 "metadata": {
  "kernelspec": {
   "display_name": ".venv",
   "language": "python",
   "name": "python3"
  },
  "language_info": {
   "codemirror_mode": {
    "name": "ipython",
    "version": 3
   },
   "file_extension": ".py",
   "mimetype": "text/x-python",
   "name": "python",
   "nbconvert_exporter": "python",
   "pygments_lexer": "ipython3",
   "version": "3.12.10"
  }
 },
 "nbformat": 4,
 "nbformat_minor": 2
}
